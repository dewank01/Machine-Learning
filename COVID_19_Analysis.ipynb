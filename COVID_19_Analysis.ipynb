{
  "nbformat": 4,
  "nbformat_minor": 0,
  "metadata": {
    "colab": {
      "name": "COVID-19 Analysis",
      "provenance": [],
      "collapsed_sections": [],
      "include_colab_link": true
    },
    "kernelspec": {
      "name": "python3",
      "display_name": "Python 3"
    }
  },
  "cells": [
    {
      "cell_type": "markdown",
      "metadata": {
        "id": "view-in-github",
        "colab_type": "text"
      },
      "source": [
        "<a href=\"https://colab.research.google.com/github/dewank01/Machine-Learning/blob/master/COVID_19_Analysis.ipynb\" target=\"_parent\"><img src=\"https://colab.research.google.com/assets/colab-badge.svg\" alt=\"Open In Colab\"/></a>"
      ]
    },
    {
      "cell_type": "markdown",
      "metadata": {
        "id": "WtsC7dXGjKyv",
        "colab_type": "text"
      },
      "source": [
        "# Covid-19 Analysis\n",
        "\n",
        "This notebook contains some analysis based on data from [Our World in Data](https://ourworldindata.org/coronavirus-source-data). If you want to run this notebook yourself, or make changes, just save it to your Google drive (**File | Save a copy in Drive...**) and then run all cells (**Runtime | Run all**). You can also edit cells and rerun them just like any other [Jupyter notebook](https://jupyter.org/).\n",
        "\n",
        "I created a companion [YouTube video](https://www.youtube.com/watch?v=273KtnPWZnw) explaining some of the details.\n",
        "\n",
        "Let me know if you have any questions or concerns.\n",
        "\n",
        "[Madhu Siddalingaiah](https://www.linkedin.com/in/msiddalingaiah/)"
      ]
    },
    {
      "cell_type": "code",
      "metadata": {
        "id": "WaYbQQg9XeaJ",
        "colab_type": "code",
        "colab": {}
      },
      "source": [
        "import pandas as pd\n",
        "import matplotlib.pyplot as plt\n",
        "import numpy as np\n",
        "import datetime"
      ],
      "execution_count": 0,
      "outputs": []
    },
    {
      "cell_type": "markdown",
      "metadata": {
        "id": "kRBhfkbbjs3_",
        "colab_type": "text"
      },
      "source": [
        "## Load Data\n",
        "\n",
        "The data appears to be updated daily. You can re-run all cells to see how the numbers evolve."
      ]
    },
    {
      "cell_type": "code",
      "metadata": {
        "id": "kUtgjy8fXsnz",
        "colab_type": "code",
        "outputId": "26b5501f-48fe-414f-c845-ae195016512d",
        "colab": {
          "base_uri": "https://localhost:8080/",
          "height": 389
        }
      },
      "source": [
        "total_cases = pd.read_csv('https://covid.ourworldindata.org/data/ecdc/total_cases.csv').fillna(0)\n",
        "total_deaths = pd.read_csv('https://covid.ourworldindata.org/data/ecdc/total_deaths.csv').fillna(0)\n",
        "new_cases = pd.read_csv('https://covid.ourworldindata.org/data/ecdc/new_cases.csv').fillna(0)\n",
        "new_deaths = pd.read_csv('https://covid.ourworldindata.org/data/ecdc/new_deaths.csv').fillna(0)\n",
        "\n",
        "# There's a spike on one day in China, which is probably a reporting error\n",
        "# Comment the following two lines to see it.\n",
        "spike = new_cases['China'].values.argmax()\n",
        "new_cases.iloc[spike] = new_cases.iloc[spike-1]\n",
        "\n",
        "total_cases.tail()"
      ],
      "execution_count": 52,
      "outputs": [
        {
          "output_type": "execute_result",
          "data": {
            "text/html": [
              "<div>\n",
              "<style scoped>\n",
              "    .dataframe tbody tr th:only-of-type {\n",
              "        vertical-align: middle;\n",
              "    }\n",
              "\n",
              "    .dataframe tbody tr th {\n",
              "        vertical-align: top;\n",
              "    }\n",
              "\n",
              "    .dataframe thead th {\n",
              "        text-align: right;\n",
              "    }\n",
              "</style>\n",
              "<table border=\"1\" class=\"dataframe\">\n",
              "  <thead>\n",
              "    <tr style=\"text-align: right;\">\n",
              "      <th></th>\n",
              "      <th>date</th>\n",
              "      <th>World</th>\n",
              "      <th>Afghanistan</th>\n",
              "      <th>Albania</th>\n",
              "      <th>Algeria</th>\n",
              "      <th>Andorra</th>\n",
              "      <th>Angola</th>\n",
              "      <th>Anguilla</th>\n",
              "      <th>Antigua and Barbuda</th>\n",
              "      <th>Argentina</th>\n",
              "      <th>Armenia</th>\n",
              "      <th>Aruba</th>\n",
              "      <th>Australia</th>\n",
              "      <th>Austria</th>\n",
              "      <th>Azerbaijan</th>\n",
              "      <th>Bahamas</th>\n",
              "      <th>Bahrain</th>\n",
              "      <th>Bangladesh</th>\n",
              "      <th>Barbados</th>\n",
              "      <th>Belarus</th>\n",
              "      <th>Belgium</th>\n",
              "      <th>Belize</th>\n",
              "      <th>Benin</th>\n",
              "      <th>Bermuda</th>\n",
              "      <th>Bhutan</th>\n",
              "      <th>Bolivia</th>\n",
              "      <th>Bonaire Sint Eustatius and Saba</th>\n",
              "      <th>Bosnia and Herzegovina</th>\n",
              "      <th>Botswana</th>\n",
              "      <th>Brazil</th>\n",
              "      <th>British Virgin Islands</th>\n",
              "      <th>Brunei</th>\n",
              "      <th>Bulgaria</th>\n",
              "      <th>Burkina Faso</th>\n",
              "      <th>Burundi</th>\n",
              "      <th>Cambodia</th>\n",
              "      <th>Cameroon</th>\n",
              "      <th>Canada</th>\n",
              "      <th>Cape Verde</th>\n",
              "      <th>Cayman Islands</th>\n",
              "      <th>...</th>\n",
              "      <th>Sierra Leone</th>\n",
              "      <th>Singapore</th>\n",
              "      <th>Sint Maarten (Dutch part)</th>\n",
              "      <th>Slovakia</th>\n",
              "      <th>Slovenia</th>\n",
              "      <th>Somalia</th>\n",
              "      <th>South Africa</th>\n",
              "      <th>South Korea</th>\n",
              "      <th>South Sudan</th>\n",
              "      <th>Spain</th>\n",
              "      <th>Sri Lanka</th>\n",
              "      <th>Sudan</th>\n",
              "      <th>Suriname</th>\n",
              "      <th>Swaziland</th>\n",
              "      <th>Sweden</th>\n",
              "      <th>Switzerland</th>\n",
              "      <th>Syria</th>\n",
              "      <th>Taiwan</th>\n",
              "      <th>Tanzania</th>\n",
              "      <th>Thailand</th>\n",
              "      <th>Timor</th>\n",
              "      <th>Togo</th>\n",
              "      <th>Trinidad and Tobago</th>\n",
              "      <th>Tunisia</th>\n",
              "      <th>Turkey</th>\n",
              "      <th>Turks and Caicos Islands</th>\n",
              "      <th>Uganda</th>\n",
              "      <th>Ukraine</th>\n",
              "      <th>United Arab Emirates</th>\n",
              "      <th>United Kingdom</th>\n",
              "      <th>United States</th>\n",
              "      <th>United States Virgin Islands</th>\n",
              "      <th>Uruguay</th>\n",
              "      <th>Uzbekistan</th>\n",
              "      <th>Vatican</th>\n",
              "      <th>Venezuela</th>\n",
              "      <th>Vietnam</th>\n",
              "      <th>Yemen</th>\n",
              "      <th>Zambia</th>\n",
              "      <th>Zimbabwe</th>\n",
              "    </tr>\n",
              "  </thead>\n",
              "  <tbody>\n",
              "    <tr>\n",
              "      <th>98</th>\n",
              "      <td>2020-04-07</td>\n",
              "      <td>1316986</td>\n",
              "      <td>337.0</td>\n",
              "      <td>377.0</td>\n",
              "      <td>1423.0</td>\n",
              "      <td>526.0</td>\n",
              "      <td>16.0</td>\n",
              "      <td>3.0</td>\n",
              "      <td>15.0</td>\n",
              "      <td>1628.0</td>\n",
              "      <td>833.0</td>\n",
              "      <td>71.0</td>\n",
              "      <td>5844</td>\n",
              "      <td>12297</td>\n",
              "      <td>641.0</td>\n",
              "      <td>33.0</td>\n",
              "      <td>756.0</td>\n",
              "      <td>123.0</td>\n",
              "      <td>60.0</td>\n",
              "      <td>700.0</td>\n",
              "      <td>20814</td>\n",
              "      <td>7.0</td>\n",
              "      <td>26.0</td>\n",
              "      <td>39.0</td>\n",
              "      <td>5.0</td>\n",
              "      <td>194.0</td>\n",
              "      <td>2.0</td>\n",
              "      <td>695.0</td>\n",
              "      <td>6.0</td>\n",
              "      <td>12056.0</td>\n",
              "      <td>3.0</td>\n",
              "      <td>135.0</td>\n",
              "      <td>549.0</td>\n",
              "      <td>364.0</td>\n",
              "      <td>3.0</td>\n",
              "      <td>115.0</td>\n",
              "      <td>658.0</td>\n",
              "      <td>16653</td>\n",
              "      <td>7.0</td>\n",
              "      <td>39.0</td>\n",
              "      <td>...</td>\n",
              "      <td>6.0</td>\n",
              "      <td>1375</td>\n",
              "      <td>25.0</td>\n",
              "      <td>534.0</td>\n",
              "      <td>1021.0</td>\n",
              "      <td>7.0</td>\n",
              "      <td>1686.0</td>\n",
              "      <td>10331</td>\n",
              "      <td>1.0</td>\n",
              "      <td>135032</td>\n",
              "      <td>178.0</td>\n",
              "      <td>12.0</td>\n",
              "      <td>10.0</td>\n",
              "      <td>10.0</td>\n",
              "      <td>7206</td>\n",
              "      <td>21574</td>\n",
              "      <td>19.0</td>\n",
              "      <td>373.0</td>\n",
              "      <td>24.0</td>\n",
              "      <td>2258.0</td>\n",
              "      <td>1.0</td>\n",
              "      <td>58.0</td>\n",
              "      <td>105.0</td>\n",
              "      <td>574.0</td>\n",
              "      <td>30217.0</td>\n",
              "      <td>8.0</td>\n",
              "      <td>52.0</td>\n",
              "      <td>1319.0</td>\n",
              "      <td>2076.0</td>\n",
              "      <td>51608</td>\n",
              "      <td>368196</td>\n",
              "      <td>42.0</td>\n",
              "      <td>415.0</td>\n",
              "      <td>397.0</td>\n",
              "      <td>7.0</td>\n",
              "      <td>159.0</td>\n",
              "      <td>245.0</td>\n",
              "      <td>0.0</td>\n",
              "      <td>39.0</td>\n",
              "      <td>9.0</td>\n",
              "    </tr>\n",
              "    <tr>\n",
              "      <th>99</th>\n",
              "      <td>2020-04-08</td>\n",
              "      <td>1391888</td>\n",
              "      <td>367.0</td>\n",
              "      <td>383.0</td>\n",
              "      <td>1468.0</td>\n",
              "      <td>545.0</td>\n",
              "      <td>17.0</td>\n",
              "      <td>3.0</td>\n",
              "      <td>15.0</td>\n",
              "      <td>1715.0</td>\n",
              "      <td>853.0</td>\n",
              "      <td>74.0</td>\n",
              "      <td>5956</td>\n",
              "      <td>12640</td>\n",
              "      <td>717.0</td>\n",
              "      <td>36.0</td>\n",
              "      <td>811.0</td>\n",
              "      <td>164.0</td>\n",
              "      <td>63.0</td>\n",
              "      <td>861.0</td>\n",
              "      <td>22194</td>\n",
              "      <td>7.0</td>\n",
              "      <td>26.0</td>\n",
              "      <td>39.0</td>\n",
              "      <td>5.0</td>\n",
              "      <td>210.0</td>\n",
              "      <td>2.0</td>\n",
              "      <td>781.0</td>\n",
              "      <td>6.0</td>\n",
              "      <td>13717.0</td>\n",
              "      <td>3.0</td>\n",
              "      <td>135.0</td>\n",
              "      <td>577.0</td>\n",
              "      <td>384.0</td>\n",
              "      <td>3.0</td>\n",
              "      <td>117.0</td>\n",
              "      <td>685.0</td>\n",
              "      <td>17883</td>\n",
              "      <td>7.0</td>\n",
              "      <td>45.0</td>\n",
              "      <td>...</td>\n",
              "      <td>6.0</td>\n",
              "      <td>1481</td>\n",
              "      <td>40.0</td>\n",
              "      <td>581.0</td>\n",
              "      <td>1055.0</td>\n",
              "      <td>8.0</td>\n",
              "      <td>1749.0</td>\n",
              "      <td>10384</td>\n",
              "      <td>1.0</td>\n",
              "      <td>140510</td>\n",
              "      <td>185.0</td>\n",
              "      <td>14.0</td>\n",
              "      <td>10.0</td>\n",
              "      <td>10.0</td>\n",
              "      <td>7693</td>\n",
              "      <td>22164</td>\n",
              "      <td>19.0</td>\n",
              "      <td>376.0</td>\n",
              "      <td>24.0</td>\n",
              "      <td>2369.0</td>\n",
              "      <td>1.0</td>\n",
              "      <td>65.0</td>\n",
              "      <td>107.0</td>\n",
              "      <td>596.0</td>\n",
              "      <td>34109.0</td>\n",
              "      <td>8.0</td>\n",
              "      <td>52.0</td>\n",
              "      <td>1462.0</td>\n",
              "      <td>2359.0</td>\n",
              "      <td>55242</td>\n",
              "      <td>398809</td>\n",
              "      <td>45.0</td>\n",
              "      <td>424.0</td>\n",
              "      <td>504.0</td>\n",
              "      <td>7.0</td>\n",
              "      <td>166.0</td>\n",
              "      <td>251.0</td>\n",
              "      <td>0.0</td>\n",
              "      <td>39.0</td>\n",
              "      <td>10.0</td>\n",
              "    </tr>\n",
              "    <tr>\n",
              "      <th>100</th>\n",
              "      <td>2020-04-09</td>\n",
              "      <td>1476818</td>\n",
              "      <td>423.0</td>\n",
              "      <td>400.0</td>\n",
              "      <td>1572.0</td>\n",
              "      <td>564.0</td>\n",
              "      <td>19.0</td>\n",
              "      <td>3.0</td>\n",
              "      <td>15.0</td>\n",
              "      <td>1795.0</td>\n",
              "      <td>881.0</td>\n",
              "      <td>77.0</td>\n",
              "      <td>6052</td>\n",
              "      <td>12969</td>\n",
              "      <td>822.0</td>\n",
              "      <td>40.0</td>\n",
              "      <td>823.0</td>\n",
              "      <td>218.0</td>\n",
              "      <td>63.0</td>\n",
              "      <td>1066.0</td>\n",
              "      <td>23403</td>\n",
              "      <td>8.0</td>\n",
              "      <td>26.0</td>\n",
              "      <td>39.0</td>\n",
              "      <td>5.0</td>\n",
              "      <td>264.0</td>\n",
              "      <td>2.0</td>\n",
              "      <td>816.0</td>\n",
              "      <td>7.0</td>\n",
              "      <td>15927.0</td>\n",
              "      <td>3.0</td>\n",
              "      <td>135.0</td>\n",
              "      <td>593.0</td>\n",
              "      <td>414.0</td>\n",
              "      <td>3.0</td>\n",
              "      <td>118.0</td>\n",
              "      <td>730.0</td>\n",
              "      <td>19274</td>\n",
              "      <td>7.0</td>\n",
              "      <td>45.0</td>\n",
              "      <td>...</td>\n",
              "      <td>7.0</td>\n",
              "      <td>1623</td>\n",
              "      <td>40.0</td>\n",
              "      <td>682.0</td>\n",
              "      <td>1091.0</td>\n",
              "      <td>8.0</td>\n",
              "      <td>1845.0</td>\n",
              "      <td>10423</td>\n",
              "      <td>2.0</td>\n",
              "      <td>146690</td>\n",
              "      <td>189.0</td>\n",
              "      <td>14.0</td>\n",
              "      <td>10.0</td>\n",
              "      <td>12.0</td>\n",
              "      <td>8419</td>\n",
              "      <td>22710</td>\n",
              "      <td>19.0</td>\n",
              "      <td>379.0</td>\n",
              "      <td>25.0</td>\n",
              "      <td>2423.0</td>\n",
              "      <td>1.0</td>\n",
              "      <td>70.0</td>\n",
              "      <td>107.0</td>\n",
              "      <td>623.0</td>\n",
              "      <td>38226.0</td>\n",
              "      <td>8.0</td>\n",
              "      <td>53.0</td>\n",
              "      <td>1668.0</td>\n",
              "      <td>2659.0</td>\n",
              "      <td>60733</td>\n",
              "      <td>432132</td>\n",
              "      <td>45.0</td>\n",
              "      <td>456.0</td>\n",
              "      <td>555.0</td>\n",
              "      <td>8.0</td>\n",
              "      <td>167.0</td>\n",
              "      <td>251.0</td>\n",
              "      <td>0.0</td>\n",
              "      <td>39.0</td>\n",
              "      <td>11.0</td>\n",
              "    </tr>\n",
              "    <tr>\n",
              "      <th>101</th>\n",
              "      <td>2020-04-10</td>\n",
              "      <td>1563857</td>\n",
              "      <td>484.0</td>\n",
              "      <td>409.0</td>\n",
              "      <td>1666.0</td>\n",
              "      <td>583.0</td>\n",
              "      <td>19.0</td>\n",
              "      <td>3.0</td>\n",
              "      <td>19.0</td>\n",
              "      <td>1894.0</td>\n",
              "      <td>921.0</td>\n",
              "      <td>82.0</td>\n",
              "      <td>6152</td>\n",
              "      <td>13248</td>\n",
              "      <td>926.0</td>\n",
              "      <td>41.0</td>\n",
              "      <td>887.0</td>\n",
              "      <td>330.0</td>\n",
              "      <td>66.0</td>\n",
              "      <td>1486.0</td>\n",
              "      <td>24983</td>\n",
              "      <td>9.0</td>\n",
              "      <td>30.0</td>\n",
              "      <td>48.0</td>\n",
              "      <td>5.0</td>\n",
              "      <td>268.0</td>\n",
              "      <td>2.0</td>\n",
              "      <td>875.0</td>\n",
              "      <td>13.0</td>\n",
              "      <td>17857.0</td>\n",
              "      <td>3.0</td>\n",
              "      <td>135.0</td>\n",
              "      <td>624.0</td>\n",
              "      <td>443.0</td>\n",
              "      <td>3.0</td>\n",
              "      <td>119.0</td>\n",
              "      <td>730.0</td>\n",
              "      <td>20748</td>\n",
              "      <td>7.0</td>\n",
              "      <td>45.0</td>\n",
              "      <td>...</td>\n",
              "      <td>7.0</td>\n",
              "      <td>1909</td>\n",
              "      <td>50.0</td>\n",
              "      <td>701.0</td>\n",
              "      <td>1124.0</td>\n",
              "      <td>12.0</td>\n",
              "      <td>1934.0</td>\n",
              "      <td>10450</td>\n",
              "      <td>2.0</td>\n",
              "      <td>152446</td>\n",
              "      <td>190.0</td>\n",
              "      <td>14.0</td>\n",
              "      <td>10.0</td>\n",
              "      <td>12.0</td>\n",
              "      <td>9141</td>\n",
              "      <td>23495</td>\n",
              "      <td>19.0</td>\n",
              "      <td>380.0</td>\n",
              "      <td>25.0</td>\n",
              "      <td>2473.0</td>\n",
              "      <td>2.0</td>\n",
              "      <td>73.0</td>\n",
              "      <td>109.0</td>\n",
              "      <td>643.0</td>\n",
              "      <td>42282.0</td>\n",
              "      <td>8.0</td>\n",
              "      <td>53.0</td>\n",
              "      <td>1892.0</td>\n",
              "      <td>2990.0</td>\n",
              "      <td>65077</td>\n",
              "      <td>466033</td>\n",
              "      <td>50.0</td>\n",
              "      <td>473.0</td>\n",
              "      <td>582.0</td>\n",
              "      <td>8.0</td>\n",
              "      <td>171.0</td>\n",
              "      <td>255.0</td>\n",
              "      <td>1.0</td>\n",
              "      <td>39.0</td>\n",
              "      <td>11.0</td>\n",
              "    </tr>\n",
              "    <tr>\n",
              "      <th>102</th>\n",
              "      <td>2020-04-11</td>\n",
              "      <td>1653204</td>\n",
              "      <td>521.0</td>\n",
              "      <td>416.0</td>\n",
              "      <td>1761.0</td>\n",
              "      <td>601.0</td>\n",
              "      <td>19.0</td>\n",
              "      <td>3.0</td>\n",
              "      <td>21.0</td>\n",
              "      <td>1975.0</td>\n",
              "      <td>937.0</td>\n",
              "      <td>86.0</td>\n",
              "      <td>6238</td>\n",
              "      <td>13560</td>\n",
              "      <td>991.0</td>\n",
              "      <td>42.0</td>\n",
              "      <td>998.0</td>\n",
              "      <td>424.0</td>\n",
              "      <td>67.0</td>\n",
              "      <td>1981.0</td>\n",
              "      <td>26667</td>\n",
              "      <td>10.0</td>\n",
              "      <td>35.0</td>\n",
              "      <td>48.0</td>\n",
              "      <td>5.0</td>\n",
              "      <td>276.0</td>\n",
              "      <td>2.0</td>\n",
              "      <td>901.0</td>\n",
              "      <td>13.0</td>\n",
              "      <td>19638.0</td>\n",
              "      <td>3.0</td>\n",
              "      <td>136.0</td>\n",
              "      <td>635.0</td>\n",
              "      <td>448.0</td>\n",
              "      <td>3.0</td>\n",
              "      <td>120.0</td>\n",
              "      <td>803.0</td>\n",
              "      <td>22133</td>\n",
              "      <td>7.0</td>\n",
              "      <td>45.0</td>\n",
              "      <td>...</td>\n",
              "      <td>8.0</td>\n",
              "      <td>1909</td>\n",
              "      <td>50.0</td>\n",
              "      <td>715.0</td>\n",
              "      <td>1160.0</td>\n",
              "      <td>21.0</td>\n",
              "      <td>2003.0</td>\n",
              "      <td>10450</td>\n",
              "      <td>3.0</td>\n",
              "      <td>157022</td>\n",
              "      <td>197.0</td>\n",
              "      <td>15.0</td>\n",
              "      <td>10.0</td>\n",
              "      <td>12.0</td>\n",
              "      <td>9685</td>\n",
              "      <td>24228</td>\n",
              "      <td>19.0</td>\n",
              "      <td>380.0</td>\n",
              "      <td>32.0</td>\n",
              "      <td>2518.0</td>\n",
              "      <td>2.0</td>\n",
              "      <td>76.0</td>\n",
              "      <td>109.0</td>\n",
              "      <td>671.0</td>\n",
              "      <td>47029.0</td>\n",
              "      <td>9.0</td>\n",
              "      <td>53.0</td>\n",
              "      <td>2203.0</td>\n",
              "      <td>3360.0</td>\n",
              "      <td>70272</td>\n",
              "      <td>501560</td>\n",
              "      <td>50.0</td>\n",
              "      <td>494.0</td>\n",
              "      <td>624.0</td>\n",
              "      <td>8.0</td>\n",
              "      <td>175.0</td>\n",
              "      <td>255.0</td>\n",
              "      <td>1.0</td>\n",
              "      <td>40.0</td>\n",
              "      <td>11.0</td>\n",
              "    </tr>\n",
              "  </tbody>\n",
              "</table>\n",
              "<p>5 rows × 208 columns</p>\n",
              "</div>"
            ],
            "text/plain": [
              "           date    World  Afghanistan  ...  Yemen  Zambia  Zimbabwe\n",
              "98   2020-04-07  1316986        337.0  ...    0.0    39.0       9.0\n",
              "99   2020-04-08  1391888        367.0  ...    0.0    39.0      10.0\n",
              "100  2020-04-09  1476818        423.0  ...    0.0    39.0      11.0\n",
              "101  2020-04-10  1563857        484.0  ...    1.0    39.0      11.0\n",
              "102  2020-04-11  1653204        521.0  ...    1.0    40.0      11.0\n",
              "\n",
              "[5 rows x 208 columns]"
            ]
          },
          "metadata": {
            "tags": []
          },
          "execution_count": 52
        }
      ]
    },
    {
      "cell_type": "markdown",
      "metadata": {
        "id": "Yh9WvOA8j1VR",
        "colab_type": "text"
      },
      "source": [
        "## Hardest Hit Region"
      ]
    },
    {
      "cell_type": "code",
      "metadata": {
        "id": "f4tDcX5TgxDn",
        "colab_type": "code",
        "outputId": "d9d3ce1f-ad94-4a08-c650-2ed01ea1295b",
        "colab": {
          "base_uri": "https://localhost:8080/",
          "height": 34
        }
      },
      "source": [
        "max_death_index = new_deaths.iloc[-1].values[2:].argmax()+2\n",
        "region = new_deaths.columns[max_death_index]\n",
        "deaths = new_deaths[region].values[-1]\n",
        "date = new_deaths.date.values[-1]\n",
        "if region[-1] == 's':\n",
        "  region = 'The ' + region\n",
        "print('{region} has the largest number of recent deaths, totalling {deaths} on {date}'.format(region=region, deaths=deaths, date=date))"
      ],
      "execution_count": 53,
      "outputs": [
        {
          "output_type": "stream",
          "text": [
            "The United States has the largest number of recent deaths, totalling 2087 on 2020-04-11\n"
          ],
          "name": "stdout"
        }
      ]
    },
    {
      "cell_type": "markdown",
      "metadata": {
        "id": "34TZz5Txj_Mr",
        "colab_type": "text"
      },
      "source": [
        "## Regions of Interest\n",
        "\n",
        "Adjust the next cell to choose regions of interest."
      ]
    },
    {
      "cell_type": "code",
      "metadata": {
        "id": "OEw89h9Eb5_H",
        "colab_type": "code",
        "colab": {}
      },
      "source": [
        "regions = [ 'Italy', 'India', 'United States']\n",
        "#regions = ['United States']"
      ],
      "execution_count": 0,
      "outputs": []
    },
    {
      "cell_type": "markdown",
      "metadata": {
        "id": "hL3gnfCzkPj-",
        "colab_type": "text"
      },
      "source": [
        "## New Cases by Date"
      ]
    },
    {
      "cell_type": "code",
      "metadata": {
        "id": "LlYiNkQqaKNl",
        "colab_type": "code",
        "outputId": "fbb5eefe-0878-4572-e03f-20467cf84328",
        "colab": {
          "base_uri": "https://localhost:8080/",
          "height": 295
        }
      },
      "source": [
        "x = new_cases.index\n",
        "for region in regions:\n",
        "  plt.plot(x, new_cases[region].values, label=region)\n",
        "plt.ylabel('New Cases')\n",
        "plt.xlabel('Days')\n",
        "plt.legend(loc='upper left')\n",
        "plt.title('New Cases')\n",
        "plt.show()"
      ],
      "execution_count": 55,
      "outputs": [
        {
          "output_type": "display_data",
          "data": {
            "image/png": "[encoded data removed]",
            "text/plain": [
              "<Figure size 432x288 with 1 Axes>"
            ]
          },
          "metadata": {
            "tags": [],
            "needs_background": "light"
          }
        }
      ]
    },
    {
      "cell_type": "markdown",
      "metadata": {
        "id": "427HDrNKkXQD",
        "colab_type": "text"
      },
      "source": [
        "## Deaths by Date"
      ]
    },
    {
      "cell_type": "code",
      "metadata": {
        "id": "2hSfwss-a3yj",
        "colab_type": "code",
        "outputId": "3c9765f2-0942-4c9b-af82-b5486aceceee",
        "colab": {
          "base_uri": "https://localhost:8080/",
          "height": 295
        }
      },
      "source": [
        "x = new_deaths.index\n",
        "for region in regions:\n",
        "  plt.plot(x, new_deaths[region].values, label=region)\n",
        "plt.ylabel('New Deaths')\n",
        "plt.xlabel('Days')\n",
        "plt.legend(loc='upper left')\n",
        "plt.title('New Deaths')\n",
        "plt.show()"
      ],
      "execution_count": 56,
      "outputs": [
        {
          "output_type": "display_data",
          "data": {
            "image/png": "[encoded data removed]",
            "text/plain": [
              "<Figure size 432x288 with 1 Axes>"
            ]
          },
          "metadata": {
            "tags": [],
            "needs_background": "light"
          }
        }
      ]
    },
    {
      "cell_type": "markdown",
      "metadata": {
        "id": "JxMsszZut2uq",
        "colab_type": "text"
      },
      "source": [
        "## Doubling Period\n",
        "\n",
        "Assuming constant exponential growth, the estimate of the number days for COVID-19 to double is\n",
        "\n",
        "$$r_d = \\frac{\\Delta t}{log_2(\\frac{\\Delta n}{n_o})}$$\n",
        "\n",
        "Where:\n",
        "* $r_d$ is the doubling period in days\n",
        "* $\\Delta t$ is the average number of days\n",
        "* $\\Delta n$ is the number of new cases in $\\Delta t$ days\n",
        "* $n_o$ is the number of cases $\\Delta t$ days ago"
      ]
    },
    {
      "cell_type": "code",
      "metadata": {
        "id": "PvO27o6duyz8",
        "colab_type": "code",
        "outputId": "ef1da2dd-e27a-44fe-ee4d-41352f94f97d",
        "colab": {
          "base_uri": "https://localhost:8080/",
          "height": 298
        }
      },
      "source": [
        "dt = 5\n",
        "regions = ['Italy', 'India', 'United States']\n",
        "r_d = {}\n",
        "r_d_list = []\n",
        "for region in regions:\n",
        "  n1 = total_cases[region].values[-1]\n",
        "  n0 = total_cases[region].values[-1-dt]\n",
        "  dn = (n1-n0)/n0\n",
        "  r = dt/(np.log2(dn+1))\n",
        "  r_d_list.append(r)\n",
        "  r_d[region] = r\n",
        "\n",
        "y_pos = np.arange(len(regions))\n",
        "\n",
        "plt.bar(y_pos, r_d_list, align='center')\n",
        "plt.xticks(y_pos, regions)\n",
        "plt.title('Doubling Period in Days')\n",
        "plt.show()\n",
        "\n",
        "fastest_index = np.array(r_d_list).argmin()\n",
        "region = regions[fastest_index]\n",
        "if region[-1] == 's':\n",
        "  region = 'the ' + region\n",
        "print('The fastest growing region is {region}, which is doubling every {rate:.1f} days'.format(region=region, rate=r_d_list[fastest_index]))"
      ],
      "execution_count": 57,
      "outputs": [
        {
          "output_type": "display_data",
          "data": {
            "image/png": "[encoded data removed]",
            "text/plain": [
              "<Figure size 432x288 with 1 Axes>"
            ]
          },
          "metadata": {
            "tags": [],
            "needs_background": "light"
          }
        },
        {
          "output_type": "stream",
          "text": [
            "The fastest growing region is India, which is doubling every 5.7 days\n"
          ],
          "name": "stdout"
        }
      ]
    },
    {
      "cell_type": "markdown",
      "metadata": {
        "id": "hmtUv3fL0dpL",
        "colab_type": "text"
      },
      "source": [
        "## Known Infection Projections\n",
        "\n",
        "Assuming constant exponential growth, the expected number of infections is:\n",
        "\n",
        "$$n = n_o \\times 2^{t/r_d}$$\n",
        "\n",
        "Where:\n",
        "* $n$ is the number of actual cases today\n",
        "* $n_o$ is the number of reported cases today\n",
        "* $t$ is the number of days\n",
        "* $r_d$ is the doubling period, in days\n",
        "\n"
      ]
    },
    {
      "cell_type": "code",
      "metadata": {
        "id": "DtjxBSTd0K-b",
        "colab_type": "code",
        "outputId": "1edceabc-81a3-41a9-87bd-7d1bd49daf31",
        "colab": {
          "base_uri": "https://localhost:8080/",
          "height": 343
        }
      },
      "source": [
        "t = np.array(range(7))\n",
        "start_date = datetime.datetime.strptime(date, '%Y-%m-%d')\n",
        "date_range = [(start_date+datetime.timedelta(days=int(d))).strftime('%Y-%m-%d') for d in t]\n",
        "\n",
        "for region in regions:\n",
        "  n_o = total_cases[region].values[-1]\n",
        "  n = np.around(n_o * np.exp2(t/r_d[region]))\n",
        "  plt.plot(t, n/1000, label=region)\n",
        "plt.ylabel('Thousands of People')\n",
        "plt.xlabel('Date')\n",
        "plt.xticks(t, date_range, rotation='vertical')\n",
        "plt.legend(loc='upper left')\n",
        "plt.title('Reported Infections')\n",
        "plt.show()"
      ],
      "execution_count": 58,
      "outputs": [
        {
          "output_type": "display_data",
          "data": {
            "image/png": "[encoded data removed]",
            "text/plain": [
              "<Figure size 432x288 with 1 Axes>"
            ]
          },
          "metadata": {
            "tags": [],
            "needs_background": "light"
          }
        }
      ]
    },
    {
      "cell_type": "markdown",
      "metadata": {
        "id": "9UyumwDVh9tZ",
        "colab_type": "text"
      },
      "source": [
        "## Actual Infection Estimates\n",
        "\n",
        "It is known that many infections are asymptomatic for several days, but still it is still possible transmit the disease. This makes COVID-19 particularly contagious. This suggests the actual number of cases lags reported, tested cases by some number of days. The following is rough projection of real cases using assumptions of doubling rate and symptom/testing lag.\n",
        "\n",
        "This suggests the number of actual cases today is:\n",
        "\n",
        "$$n = n_o \\times 2^{(t+l)/r_d}$$\n",
        "\n",
        "Where:\n",
        "* $n$ is the number of actual cases today\n",
        "* $n_o$ is the number of reported cases today\n",
        "* $t$ is the number of days\n",
        "* $l$ is the reporting lag, in days\n",
        "* $r_d$ is the doubling period, in days"
      ]
    },
    {
      "cell_type": "code",
      "metadata": {
        "id": "shjbTJjUiynh",
        "colab_type": "code",
        "outputId": "7f24e7bf-69a9-4cf7-ee94-debb4c5c16ab",
        "colab": {
          "base_uri": "https://localhost:8080/",
          "height": 343
        }
      },
      "source": [
        "# Estimate of the number of days until symptoms/testing are reported\n",
        "lag = 14\n",
        "\n",
        "t = np.array(range(7))\n",
        "start_date = datetime.datetime.strptime(date, '%Y-%m-%d')\n",
        "date_range = [(start_date+datetime.timedelta(days=int(d))).strftime('%Y-%m-%d') for d in t]\n",
        "\n",
        "for region in regions:\n",
        "  n_o = total_cases[region].values[-1]\n",
        "  n = np.around(n_o * np.exp2((t+lag)/r_d[region]))\n",
        "  plt.plot(t, n/1000, label=region)\n",
        "plt.ylabel('Thousands of People')\n",
        "plt.xlabel('Date')\n",
        "plt.xticks(t, date_range, rotation='vertical')\n",
        "plt.legend(loc='upper left')\n",
        "plt.title('Actual Infection Estimates')\n",
        "plt.show()"
      ],
      "execution_count": 59,
      "outputs": [
        {
          "output_type": "display_data",
          "data": {
            "image/png": "[encoded data removed]",
            "text/plain": [
              "<Figure size 432x288 with 1 Axes>"
            ]
          },
          "metadata": {
            "tags": [],
            "needs_background": "light"
          }
        }
      ]
    },
    {
      "cell_type": "markdown",
      "metadata": {
        "id": "UkSO1DCsm7b2",
        "colab_type": "text"
      },
      "source": [
        "## Doubling Period over Time\n",
        "\n",
        "Compute the doubling period for several regions over the last several days. Increasing numbers suggest an reduction in infection rates, which is good."
      ]
    },
    {
      "cell_type": "code",
      "metadata": {
        "id": "hGST6NJKm5lP",
        "colab_type": "code",
        "outputId": "33df5de5-f052-41c1-b332-8389988af1ef",
        "colab": {
          "base_uri": "https://localhost:8080/",
          "height": 343
        }
      },
      "source": [
        "dt = 5\n",
        "allRegions = total_cases.columns[1:]\n",
        "r_d_time = {}\n",
        "for region in regions:\n",
        "  r_d_time[region] = []\n",
        "\n",
        "look_back = 28\n",
        "for region in regions:\n",
        "  for i in range(-look_back,0):\n",
        "    n1 = total_cases[region].values[i]\n",
        "    n0 = total_cases[region].values[i-dt]\n",
        "    dn = (n1-n0)/n0\n",
        "    r = dt/(np.log2(dn+1))\n",
        "    r_d_time[region].append(r)\n",
        "\n",
        "date_range = range(-look_back,0)\n",
        "for region in regions:\n",
        "  #plt.plot(range(-look_back,0), r_d_time[region], label=region)\n",
        "  plt.plot(date_range, r_d_time[region], label=region)  \n",
        "#plt.ylim(0, 10)\n",
        "plt.ylabel('Doubling Period (days)')\n",
        "plt.xlabel('Date')\n",
        "plt.xticks(date_range, total_cases.date[-look_back:], rotation='vertical')\n",
        "plt.legend(loc='upper left')\n",
        "plt.title('Doubling Period over Time')\n",
        "plt.show()"
      ],
      "execution_count": 60,
      "outputs": [
        {
          "output_type": "display_data",
          "data": {
            "image/png": "[encoded data removed]",
            "text/plain": [
              "<Figure size 432x288 with 1 Axes>"
            ]
          },
          "metadata": {
            "tags": [],
            "needs_background": "light"
          }
        }
      ]
    }
  ]
}